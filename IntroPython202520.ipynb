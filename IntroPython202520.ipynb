{
  "nbformat": 4,
  "nbformat_minor": 0,
  "metadata": {
    "colab": {
      "private_outputs": true,
      "provenance": [],
      "authorship_tag": "ABX9TyOLEd37cZhpL8g7s819SuzW",
      "include_colab_link": true
    },
    "kernelspec": {
      "name": "python3",
      "display_name": "Python 3"
    },
    "language_info": {
      "name": "python"
    }
  },
  "cells": [
    {
      "cell_type": "markdown",
      "metadata": {
        "id": "view-in-github",
        "colab_type": "text"
      },
      "source": [
        "<a href=\"https://colab.research.google.com/github/Mikheltodd/FundProg202520/blob/main/IntroPython202520.ipynb\" target=\"_parent\"><img src=\"https://colab.research.google.com/assets/colab-badge.svg\" alt=\"Open In Colab\"/></a>"
      ]
    },
    {
      "cell_type": "markdown",
      "source": [
        "# Introducción a Python\n",
        "## Fundamentos de Programación\n",
        "### Universidad Pontificia Bolivariana - Seccional Montería\n",
        "\n",
        "**Fecha:** 29 de agosto de 2025\n",
        "\n",
        "**Presentado por:** _Miguel Ortiz_\n",
        "\n",
        "En la siguiente actividad se explorarán los conceptos básicos de Python."
      ],
      "metadata": {
        "id": "zGztDad4ZXTD"
      }
    },
    {
      "cell_type": "code",
      "source": [
        "# Comentarios\n",
        "\n",
        "# Introducción a python\n",
        "# Los comentarios se crean con el # y se utilizan para:\n",
        "# - Dar contexto\n",
        "# - Explicar código\n",
        "# - Ignorar código (pruebas)"
      ],
      "metadata": {
        "id": "6qNB-EyMZUKD"
      },
      "execution_count": null,
      "outputs": []
    },
    {
      "cell_type": "code",
      "source": [
        "# Print\n",
        "\n",
        "# La función print() se utiliza para imprimir un mensaje en consola.\n",
        "\n",
        "print(\"Hola Mundo!\")"
      ],
      "metadata": {
        "id": "be8BhhLYbKUe"
      },
      "execution_count": null,
      "outputs": []
    },
    {
      "cell_type": "code",
      "source": [
        "# Variables\n",
        "\n",
        "# Se utilizan para \"almacenar\" datos en memoria. Es una referencia a la dirección en memoria donde se almacenan los datos.\n",
        "\n",
        "name = \"Miguel\"\n",
        "age = 34\n",
        "height = 1.72\n",
        "city = \"Cartagena\"\n",
        "is_sleeping = False\n",
        "\n",
        "print(name, age, height, city, is_sleeping)"
      ],
      "metadata": {
        "id": "1m9-2Fy0dwlF"
      },
      "execution_count": null,
      "outputs": []
    },
    {
      "cell_type": "code",
      "source": [
        "# Cálculos\n",
        "\n",
        "a = 5\n",
        "b = 2.3\n",
        "c = a + b\n",
        "d = a - b\n",
        "e = a * b\n",
        "f = a / b\n",
        "g = a % b # módulo: residuo de la división entera de a entre b\n",
        "h = a ** b # potencia: a elevado a la b\n",
        "print(c)\n",
        "print(d)\n",
        "print(e)\n",
        "print(f)\n",
        "print(g)\n",
        "print(h)"
      ],
      "metadata": {
        "id": "5hOGI3hMfhUc"
      },
      "execution_count": null,
      "outputs": []
    },
    {
      "cell_type": "code",
      "source": [
        "# Cambio de valores\n",
        "\n",
        "a = 5\n",
        "print(a)\n",
        "a = 10\n",
        "print(a)"
      ],
      "metadata": {
        "id": "PswKeNgmhTtD"
      },
      "execution_count": null,
      "outputs": []
    },
    {
      "cell_type": "code",
      "source": [
        "# Concatenación\n",
        "\n",
        "# Concatenar consiste en unir texto (o sumar datos de tipo texto)\n",
        "\n",
        "firstname = \"Miguel\"\n",
        "lastname = \"Ortiz\"\n",
        "fullname = firstname + \" \" + lastname\n",
        "print(fullname)"
      ],
      "metadata": {
        "id": "bElzmV8TigkU"
      },
      "execution_count": null,
      "outputs": []
    },
    {
      "cell_type": "code",
      "source": [
        "# Incrementadores (+=, -=, *=, ...)\n",
        "\n",
        "time = 0\n",
        "print(time)\n",
        "time += 1\n",
        "print(time)\n",
        "time -= 2\n",
        "print(time)\n",
        "time *= 3\n",
        "print(time)\n",
        "time /= 4\n",
        "print(time)"
      ],
      "metadata": {
        "id": "zyHmaWJqjBOW"
      },
      "execution_count": null,
      "outputs": []
    },
    {
      "cell_type": "code",
      "source": [
        "# Varias líneas de texto\n",
        "\n",
        "song = \"\"\"\n",
        "Chiquitita, tell me what's wrong\n",
        "You're enchained by your own sorrow\n",
        "In your eyes there is no hope for tomorrow\n",
        "How I hate to see you like this\n",
        "There is no way you can deny it\n",
        "I can see that you're oh so sad, so quiet\n",
        "\"\"\"\n",
        "\n",
        "print(song)"
      ],
      "metadata": {
        "id": "QDau0FJ9kRMs"
      },
      "execution_count": null,
      "outputs": []
    },
    {
      "cell_type": "code",
      "source": [
        "# Inputs\n",
        "\n",
        "# Se utilizan para gestionar entradas de usuario\n",
        "\n",
        "name = input(\"Hola. ¿Cuál es tu nombre? \")\n",
        "print(\"Hola\", name, \"mucho gusto\")"
      ],
      "metadata": {
        "id": "vue5qF81lu52"
      },
      "execution_count": null,
      "outputs": []
    },
    {
      "cell_type": "code",
      "source": [
        "# calculat_tiempo\n",
        "# Programa para calcular el tiempo de caída libre\n",
        "\n",
        "G = 9.81\n",
        "# h = 10 # t = 1.4278\n",
        "# h = 20 # t = 2.019\n",
        "# h = 30 # 2.4730\n",
        "h = float(input(\"Ingrese la altura (m): \"))\n",
        "t = (2 * h / G) ** (1 / 2)\n",
        "print(\"El tiempo de caída libre es\", t, \"segundos.\")"
      ],
      "metadata": {
        "id": "SDNScqgLmvOh"
      },
      "execution_count": null,
      "outputs": []
    },
    {
      "cell_type": "code",
      "source": [
        "# Promedio de créditos\n",
        "\n",
        "# Escriba un programa para calcular y mostrar el número de créditos inscritos por 3 estudiantes y el promedio de créditos\n",
        "\n"
      ],
      "metadata": {
        "id": "WLOoP1yKos1c"
      },
      "execution_count": null,
      "outputs": []
    },
    {
      "cell_type": "code",
      "source": [
        "year = 2025\n",
        "birth_year = int(input(\"Ingrese año de nacimiento: \"))\n",
        "age = year - birth_year\n",
        "print(\"Su edad es\", age)"
      ],
      "metadata": {
        "id": "X3KvPKkH6A0M"
      },
      "execution_count": null,
      "outputs": []
    },
    {
      "cell_type": "code",
      "source": [],
      "metadata": {
        "id": "0rWnF4BJ6T8R"
      },
      "execution_count": null,
      "outputs": []
    }
  ]
}